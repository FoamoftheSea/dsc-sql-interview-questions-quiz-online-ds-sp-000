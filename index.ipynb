{
 "cells": [
  {
   "cell_type": "markdown",
   "metadata": {},
   "source": [
    "# SQL Interview Questions  - Quiz\n",
    "\n",
    "## Introduction\n",
    "\n",
    "In this lesson, we'll go through a short quiz containing the types of questions about SQL and relational databases that you can expect to see in an interview. \n",
    "\n",
    "\n",
    "\n",
    "## SQL Interview Questions\n",
    "\n",
    "This quiz contains questions on topics you can expect to see in an interview pertaining to SQL and Relational Databases. Some of them are multiple choice, while some are short answer. For these short answer questions, double click on the Jupyter Notebook and type your answer below the line. "
   ]
  },
  {
   "cell_type": "markdown",
   "metadata": {},
   "source": [
    "## Question 1\n",
    "\n",
    "what are the 4 main datatypes in SQLite3? Can we use other common types from other kinds of SQL?\n",
    "\n",
    "Type your answer below this line:\n",
    "_______________________________________________________________________________________________________________________________"
   ]
  },
  {
   "cell_type": "markdown",
   "metadata": {},
   "source": [
    "The 4 main datatypes in SQLite3 are TEXT, INTEGER, REAL, and BLOB\n",
    " - TEXT: Plain Text\n",
    " - INTEGERS: Integers (Whole Numbers)\n",
    " - REAL: Decimals, 15 digit precision\n",
    " - BLOB: sometimes used for Binary variables\n",
    " \n",
    "It is possible to use other common data types from other kinds of SQL, as SQLite3 will detect which of its own datatypes to associate the information with."
   ]
  },
  {
   "cell_type": "markdown",
   "metadata": {},
   "source": [
    "## Question 2\n",
    "\n",
    "Explain the relationship between **Primary Keys** and **Foreign Keys**.\n",
    "\n",
    "Type your answer below this line:\n",
    "_______________________________________________________________________________________________________________________________"
   ]
  },
  {
   "cell_type": "markdown",
   "metadata": {},
   "source": [
    "A primary key is the column which uniquely identifies rows within a table. A foreign key is a column in any given table which serves as a primary key in another related table within a database."
   ]
  },
  {
   "cell_type": "markdown",
   "metadata": {},
   "source": [
    "## Question 3\n",
    "\n",
    "Explain the different types of relationships entities can have in a SQL database. \n",
    "\n",
    "Type your answer below this line:\n",
    "_______________________________________________________________________________________________________________________________"
   ]
  },
  {
   "cell_type": "markdown",
   "metadata": {},
   "source": [
    "There are 3 different types of relationships that two entities can have in an SQL database: One-to-One, One-to-Many, and Many-to-Many:\n",
    " - One-to-One: A situation where there is only one record on either side of a relationship, such as a Customer's Name to their Customer ID number.\n",
    " - One-to-Many: A situation where for each value on one side of the relationship, there are many entries which correspond to that value on the other side of the relationship, as in all of the Order Numbers associated with any given Customer ID.\n",
    " - Many-to-Many: A situation where there are multiple entries for both sides of a relationship between to columns, as in the case where there are both multiple offices and multiple restaurants in the same city: each of the offices and each of the restaurants will be related to one another by being in the same city."
   ]
  },
  {
   "cell_type": "markdown",
   "metadata": {},
   "source": [
    "## Question 4\n",
    "\n",
    "Explain the various types of JOINs possible with SQL. \n",
    "\n",
    "Type your answer below this line:\n",
    "_______________________________________________________________________________________________________________________________"
   ]
  },
  {
   "cell_type": "markdown",
   "metadata": {},
   "source": [
    "There are three families of joins in SQL: Inner, Left/Right, and Outer:\n",
    " - Inner: In an inner join, the result will be the intersection between two tables, meaning that it will produce a table containing rows selected where any given value in the column being joined on is contained in both tables being joined.\n",
    " - Left/Right: In a left/right join, the resulting table will contain all original rows of the table on the left/right of the join, having those rows which share a value in the column being joined on expanded with the columns from the other table. This is a good join to use if you have incomplete data in the second table and wish to preserve all of the data in the first. Sometimes, the rows which relate between the tables are also removed, leaving only the left/right table with all rows which did not have a relationship to data in the other table.\n",
    " - Outer: In an outer join, all rows from both tables are kept, and related wherever possible. Again, sometimes the related rows are removed, to have a resulting table which only contains rows that were not related over the column being joined on."
   ]
  },
  {
   "cell_type": "markdown",
   "metadata": {},
   "source": [
    "## Question 5\n",
    "\n",
    "Explain the relationship between Aggregate functions and GROUP BY statements.\n",
    "\n",
    "Type your answer below this line:\n",
    "_______________________________________________________________________________________________________________________________"
   ]
  },
  {
   "cell_type": "markdown",
   "metadata": {},
   "source": [
    "GROUP BY statements allow Aggregate functions to be used. Aggregate functions allow us to see relationships between the data within one column and certain values in other columns, for instance, if you wanted to know how many customers you had in each state, you'd group your data by state and count the number of customers in each one. Alternatively, one may wish to see what the highest purchase amount each customer has made: they would group their data by customer, and find the maximum value for each."
   ]
  },
  {
   "cell_type": "markdown",
   "metadata": {},
   "source": [
    "## Question 6\n",
    "\n",
    "What role do Associative Entities play (JOIN Tables) in many-to-many JOINs?\n",
    "\n",
    "\n",
    "Type your answer below this line:\n",
    "_______________________________________________________________________________________________________________________________"
   ]
  },
  {
   "cell_type": "markdown",
   "metadata": {},
   "source": [
    "A good example of the role of an Associative Entity in action is relating a table of data describing individual actors with a table with data describing individual films. Each actor will have been in many films, and each film will have many actors, so these tables will not have a column with the foreign key needed to relate to the other properly. Thus, an Associative Entity (a junction table) is used, which is a table which contains the foreign keys for both tables, showing every combination of actor/film, which can relate the two tables in a many-to-many join."
   ]
  },
  {
   "cell_type": "markdown",
   "metadata": {},
   "source": [
    "## Summary\n",
    "\n",
    "In this lesson, we practiced answering open-ended interview questions for SQL and Relational Databases. "
   ]
  },
  {
   "cell_type": "code",
   "execution_count": null,
   "metadata": {},
   "outputs": [],
   "source": []
  }
 ],
 "metadata": {
  "kernelspec": {
   "display_name": "Python 3",
   "language": "python",
   "name": "python3"
  },
  "language_info": {
   "codemirror_mode": {
    "name": "ipython",
    "version": 3
   },
   "file_extension": ".py",
   "mimetype": "text/x-python",
   "name": "python",
   "nbconvert_exporter": "python",
   "pygments_lexer": "ipython3",
   "version": "3.7.3"
  }
 },
 "nbformat": 4,
 "nbformat_minor": 2
}
